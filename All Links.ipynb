{
 "cells": [
  {
   "cell_type": "markdown",
   "metadata": {},
   "source": [
    "#### Attention Algorithms\n",
    "* https://lilianweng.github.io/lil-log/2018/06/24/attention-attention.html\n",
    "\n",
    "\n",
    "#### Hasing Tricks:\n",
    "* https://medium.com/value-stream-design/introducing-one-of-the-best-hacks-in-machine-learning-the-hashing-trick-bf6a9c8af18f\n",
    "* https://booking.ai/dont-be-tricked-by-the-hashing-trick-192a6aae3087\n",
    "* Fully understand the hashing trick  [Link](https://arxiv.org/abs/1805.08539)\n",
    "\n",
    "\n",
    "\n",
    "#### Perplexity:\n",
    "[Link](https://medium.com/@aerinykim/perplexity-intuition-and-derivation-105dd481c8f3)"
   ]
  },
  {
   "cell_type": "markdown",
   "metadata": {},
   "source": []
  },
  {
   "cell_type": "code",
   "execution_count": null,
   "metadata": {
    "collapsed": true
   },
   "outputs": [],
   "source": []
  }
 ],
 "metadata": {
  "kernelspec": {
   "display_name": "Python 3",
   "language": "python",
   "name": "python3"
  },
  "language_info": {
   "codemirror_mode": {
    "name": "ipython",
    "version": 3
   },
   "file_extension": ".py",
   "mimetype": "text/x-python",
   "name": "python",
   "nbconvert_exporter": "python",
   "pygments_lexer": "ipython3",
   "version": "3.6.3"
  }
 },
 "nbformat": 4,
 "nbformat_minor": 2
}
